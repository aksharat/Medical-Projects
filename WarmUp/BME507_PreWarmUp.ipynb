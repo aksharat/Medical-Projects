{
  "cells": [
    {
      "cell_type": "markdown",
      "metadata": {
        "id": "view-in-github",
        "colab_type": "text"
      },
      "source": [
        "<a href=\"https://colab.research.google.com/github/aksharat/Medical-Projects/blob/main/BME507_PreWarmUp.ipynb\" target=\"_parent\"><img src=\"https://colab.research.google.com/assets/colab-badge.svg\" alt=\"Open In Colab\"/></a>"
      ]
    },
    {
      "cell_type": "code",
      "execution_count": null,
      "metadata": {
        "id": "Ptp7_1pZxf0h"
      },
      "outputs": [],
      "source": [
        "# Import the essential libraries\n",
        "import torch\n",
        "import matplotlib.pyplot as plt\n",
        "import torch.nn as nn\n",
        "import torch.optim as optim\n",
        "# Import the MNIST dataset into local system\n",
        "from torchvision import datasets\n",
        "from torchvision.transforms import ToTensor\n",
        "#Preparing data for training with Dataloaders\n",
        "from torch.utils.data import DataLoader\n",
        "#Import swin_t model\n",
        "from torchvision.models import swin_t\n",
        "from torchvision.models import Swin_T_Weights"
      ]
    },
    {
      "cell_type": "code",
      "execution_count": null,
      "metadata": {
        "colab": {
          "base_uri": "https://localhost:8080/"
        },
        "id": "IR0OcsdFxwis",
        "outputId": "13b1974a-18ae-4f86-fd6d-6f92ddc7b53d"
      },
      "outputs": [
        {
          "name": "stdout",
          "output_type": "stream",
          "text": [
            "Downloading http://yann.lecun.com/exdb/mnist/train-images-idx3-ubyte.gz\n",
            "Downloading http://yann.lecun.com/exdb/mnist/train-images-idx3-ubyte.gz to data/MNIST/raw/train-images-idx3-ubyte.gz\n"
          ]
        },
        {
          "name": "stderr",
          "output_type": "stream",
          "text": [
            "100%|██████████| 9912422/9912422 [00:00<00:00, 94954667.47it/s]\n"
          ]
        },
        {
          "name": "stdout",
          "output_type": "stream",
          "text": [
            "Extracting data/MNIST/raw/train-images-idx3-ubyte.gz to data/MNIST/raw\n",
            "\n",
            "Downloading http://yann.lecun.com/exdb/mnist/train-labels-idx1-ubyte.gz\n",
            "Downloading http://yann.lecun.com/exdb/mnist/train-labels-idx1-ubyte.gz to data/MNIST/raw/train-labels-idx1-ubyte.gz\n"
          ]
        },
        {
          "name": "stderr",
          "output_type": "stream",
          "text": [
            "100%|██████████| 28881/28881 [00:00<00:00, 32989023.37it/s]"
          ]
        },
        {
          "name": "stdout",
          "output_type": "stream",
          "text": [
            "Extracting data/MNIST/raw/train-labels-idx1-ubyte.gz to data/MNIST/raw\n",
            "\n",
            "Downloading http://yann.lecun.com/exdb/mnist/t10k-images-idx3-ubyte.gz\n",
            "Downloading http://yann.lecun.com/exdb/mnist/t10k-images-idx3-ubyte.gz to data/MNIST/raw/t10k-images-idx3-ubyte.gz\n"
          ]
        },
        {
          "name": "stderr",
          "output_type": "stream",
          "text": [
            "\n",
            "100%|██████████| 1648877/1648877 [00:00<00:00, 25210484.59it/s]\n"
          ]
        },
        {
          "name": "stdout",
          "output_type": "stream",
          "text": [
            "Extracting data/MNIST/raw/t10k-images-idx3-ubyte.gz to data/MNIST/raw\n",
            "\n",
            "Downloading http://yann.lecun.com/exdb/mnist/t10k-labels-idx1-ubyte.gz\n",
            "Downloading http://yann.lecun.com/exdb/mnist/t10k-labels-idx1-ubyte.gz to data/MNIST/raw/t10k-labels-idx1-ubyte.gz\n"
          ]
        },
        {
          "name": "stderr",
          "output_type": "stream",
          "text": [
            "100%|██████████| 4542/4542 [00:00<00:00, 5981327.71it/s]"
          ]
        },
        {
          "name": "stdout",
          "output_type": "stream",
          "text": [
            "Extracting data/MNIST/raw/t10k-labels-idx1-ubyte.gz to data/MNIST/raw\n",
            "\n"
          ]
        },
        {
          "name": "stderr",
          "output_type": "stream",
          "text": [
            "\n"
          ]
        }
      ],
      "source": [
        "#Download the training and test data\n",
        "train_data = datasets.MNIST(root='data',train=True,\n",
        "                            transform=ToTensor(),download=True)\n",
        "test_data = datasets.MNIST(root='data',train=False,\n",
        "                            transform=ToTensor())"
      ]
    },
    {
      "cell_type": "code",
      "execution_count": null,
      "metadata": {
        "colab": {
          "base_uri": "https://localhost:8080/",
          "height": 452
        },
        "id": "qn3p09bex8O8",
        "outputId": "63210b51-e82b-47e8-dac9-277a931318ac"
      },
      "outputs": [
        {
          "data": {
            "image/png": "[encoded data removed]",
            "text/plain": [
              "<Figure size 640x480 with 1 Axes>"
            ]
          },
          "metadata": {},
          "output_type": "display_data"
        }
      ],
      "source": [
        "#Visualize one sample data\n",
        "plt.imshow(train_data.data[0],cmap = 'gray')\n",
        "plt.title('%i'%train_data.targets[0])\n",
        "plt.show()"
      ]
    },
    {
      "cell_type": "code",
      "execution_count": null,
      "metadata": {
        "colab": {
          "base_uri": "https://localhost:8080/",
          "height": 675
        },
        "id": "RAlSNrqmx-2G",
        "outputId": "eb5721db-abb8-4459-fe6c-a9a47c1b4c4f"
      },
      "outputs": [
        {
          "data": {
            "image/png": "[encoded data removed]",
            "text/plain": [
              "<Figure size 1000x800 with 25 Axes>"
            ]
          },
          "metadata": {},
          "output_type": "display_data"
        }
      ],
      "source": [
        "#Visualize multiple train data\n",
        "figure = plt.figure(figsize=(10,8))\n",
        "cols,rows=5,5\n",
        "for i in range(1,cols*rows+1):\n",
        "  sample_idx = torch.randint(len(train_data),size=(1,)).item()\n",
        "  img,label = train_data[sample_idx]\n",
        "  figure.add_subplot(rows,cols,i)\n",
        "  plt.title(label)\n",
        "  plt.axis('off')\n",
        "  plt.imshow(img.squeeze(),cmap='gray')\n",
        "plt.show()"
      ]
    },
    {
      "cell_type": "code",
      "execution_count": null,
      "metadata": {
        "colab": {
          "base_uri": "https://localhost:8080/"
        },
        "id": "ojBpCOjux-82",
        "outputId": "f5737667-6d5d-44c9-a57d-69910bf20179"
      },
      "outputs": [
        {
          "data": {
            "text/plain": [
              "{'train': <torch.utils.data.dataloader.DataLoader at 0x7f4a5944b2b0>,\n",
              " 'test': <torch.utils.data.dataloader.DataLoader at 0x7f4a5944b370>}"
            ]
          },
          "execution_count": 9,
          "metadata": {},
          "output_type": "execute_result"
        }
      ],
      "source": [
        "loaders = {'train':DataLoader(train_data,batch_size=100,shuffle=True,num_workers=1),\n",
        "           'test': DataLoader(test_data,batch_size=100, shuffle=True,num_workers=1)}\n",
        "loaders"
      ]
    },
    {
      "cell_type": "code",
      "execution_count": null,
      "metadata": {
        "colab": {
          "background_save": true,
          "base_uri": "https://localhost:8080/"
        },
        "id": "A2LMlDXXyhUJ",
        "outputId": "7cff7a60-8153-4957-9b29-b375f10e8fa5"
      },
      "outputs": [
        {
          "metadata": {
            "tags": null
          },
          "name": "stderr",
          "output_type": "stream",
          "text": [
            "Downloading: \"https://download.pytorch.org/models/swin_t-704ceda3.pth\" to /root/.cache/torch/hub/checkpoints/swin_t-704ceda3.pth\n",
            "100%|██████████| 108M/108M [00:01<00:00, 62.1MB/s] \n"
          ]
        },
        {
          "metadata": {
            "tags": null
          },
          "name": "stdout",
          "output_type": "stream",
          "text": [
            "Epoch [1/10], Step [100/600], Loss: 1.2594\n",
            "Epoch [1/10], Step [200/600], Loss: 0.4506\n",
            "Epoch [1/10], Step [300/600], Loss: 0.1948\n",
            "Epoch [1/10], Step [400/600], Loss: 0.3127\n",
            "Epoch [1/10], Step [500/600], Loss: 0.1213\n",
            "Epoch [1/10], Step [600/600], Loss: 0.0819\n",
            "Epoch [2/10], Step [100/600], Loss: 0.1613\n",
            "Epoch [2/10], Step [200/600], Loss: 0.0739\n",
            "Epoch [2/10], Step [300/600], Loss: 0.0947\n",
            "Epoch [2/10], Step [400/600], Loss: 0.0259\n",
            "Epoch [2/10], Step [500/600], Loss: 0.1603\n",
            "Epoch [2/10], Step [600/600], Loss: 0.1236\n",
            "Epoch [3/10], Step [100/600], Loss: 0.2138\n"
          ]
        }
      ],
      "source": [
        "batch_size = 64\n",
        "\n",
        "# Load the pretrained Swin Transformer model\n",
        "weights = Swin_T_Weights.DEFAULT\n",
        "model = swin_t(weights=weights)\n",
        "#pretrained_model = swin_t(pretrained=True)\n",
        "\n",
        "# Modify the head of the model for MNIST classification\n",
        "# Create a new Conv2d layer with modified parameters to match the grayscale images\n",
        "new_conv = nn.Conv2d(1, 96, kernel_size=(4, 4), stride=(4, 4))\n",
        "# Replace the first Conv2d layer in the features with the new Conv2d layer\n",
        "model.features[0][0] = new_conv\n",
        "\n",
        "model.head = nn.Linear(model.head.in_features, 10)\n",
        "\n",
        "# Define the loss function and optimizer\n",
        "criterion = nn.CrossEntropyLoss()\n",
        "optimizer = optim.Adam(model.parameters(), lr=0.001)\n",
        "\n",
        "# Train the model\n",
        "num_epochs = 10\n",
        "\n",
        "device = torch.device(\"cuda\" if torch.cuda.is_available() else \"cpu\")\n",
        "model.to(device)\n",
        "\n",
        "def train(num_epochs, model, loaders):\n",
        "    model.train()\n",
        "    total_step = len(loaders['train'])\n",
        "    for epoch in range(num_epochs):\n",
        "        for i, (images, labels) in enumerate(loaders['train']):\n",
        "            images = images.to(device)\n",
        "            labels = labels.to(device)\n",
        "\n",
        "            output = model(images)\n",
        "            loss = criterion(output, labels)\n",
        "\n",
        "            optimizer.zero_grad()\n",
        "            loss.backward()\n",
        "            optimizer.step()\n",
        "\n",
        "            if (i+1) % 100 == 0:\n",
        "                print(f\"Epoch [{epoch+1}/{num_epochs}], Step [{i+1}/{total_step}], Loss: {loss.item():.4f}\")\n",
        "\n",
        "train(num_epochs, model, loaders)\n",
        "\n"
      ]
    },
    {
      "cell_type": "code",
      "execution_count": null,
      "metadata": {
        "id": "9yOKoUQqzpgp"
      },
      "outputs": [],
      "source": [
        "# Test the model\n",
        "model.eval()\n",
        "with torch.no_grad():\n",
        "    correct = 0\n",
        "    total = 0\n",
        "    for images, labels in loaders['test']:\n",
        "        images = images.to(device)\n",
        "        labels = labels.to(device)\n",
        "\n",
        "        output = model(images)\n",
        "        _, predicted = torch.max(output.data, 1)\n",
        "\n",
        "        total += labels.size(0)\n",
        "        correct += (predicted == labels).sum().item()\n",
        "\n",
        "    accuracy = correct / total\n",
        "    print(f\"Test Accuracy: {accuracy * 100:.2f}%\")"
      ]
    }
  ],
  "metadata": {
    "colab": {
      "provenance": [],
      "authorship_tag": "ABX9TyPuSxWSJeE/0g9vOKkrL0Yz",
      "include_colab_link": true
    },
    "kernelspec": {
      "display_name": "Python 3",
      "name": "python3"
    },
    "language_info": {
      "name": "python"
    }
  },
  "nbformat": 4,
  "nbformat_minor": 0
}
